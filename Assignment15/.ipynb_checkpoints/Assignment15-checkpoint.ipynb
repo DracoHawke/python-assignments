{
 "cells": [
  {
   "cell_type": "code",
   "execution_count": 1,
   "metadata": {},
   "outputs": [
    {
     "name": "stdout",
     "output_type": "stream",
     "text": [
      "Table created Succesfully\n",
      "Done!\n"
     ]
    }
   ],
   "source": [
    "# Question 1\n",
    "# Write a python script to create a databse of students named Students.\n",
    "# Please note that while the following questions require us to work on 2 columns but I have introduced a 3rd column which\n",
    "# is a primary key\n",
    "\n",
    "import sqlite3\n",
    "try:\n",
    "    con=sqlite3.connect('Students.db')\n",
    "    cur=con.cursor()\n",
    "    query='create table Marks(Rno number(5) primary key, Name varchar(10), Marks int(3))'\n",
    "    cur.execute(query)\n",
    "    print(\"Table created Succesfully\")\n",
    "    con.commit()\n",
    "except:\n",
    "    if con:\n",
    "        con.rollback()\n",
    "        print(\"Rolled Back\")\n",
    "finally:\n",
    "    if con:\n",
    "        cur.close()\n",
    "        con.close()\n",
    "        print(\"Done!\")"
   ]
  },
  {
   "cell_type": "code",
   "execution_count": 5,
   "metadata": {},
   "outputs": [
    {
     "name": "stdout",
     "output_type": "stream",
     "text": [
      "Enter student's roll number 1\n",
      "Enter Student Name a\n",
      "Enter Marks 10\n",
      "Enter student's roll number 2\n",
      "Enter Student Name b\n",
      "Enter Marks 20\n",
      "Enter student's roll number 3\n",
      "Enter Student Name c\n",
      "Enter Marks 30\n",
      "Enter student's roll number 4\n",
      "Enter Student Name d\n",
      "Enter Marks 40\n",
      "Enter student's roll number 5\n",
      "Enter Student Name e\n",
      "Enter Marks 50\n",
      "Enter student's roll number 6\n",
      "Enter Student Name f\n",
      "Enter Marks 60\n",
      "Enter student's roll number 7\n",
      "Enter Student Name g\n",
      "Enter Marks 70\n",
      "Enter student's roll number 8\n",
      "Enter Student Name h\n",
      "Enter Marks 80\n",
      "Enter student's roll number 9\n",
      "Enter Student Name i\n",
      "Enter Marks 90\n",
      "Enter student's roll number 10\n",
      "Enter Student Name j\n",
      "Enter Marks 100\n"
     ]
    }
   ],
   "source": [
    "#Question 2 \n",
    "#Take students name and marks(between 0-100) as input from user 10 times using loops.\n",
    "\n",
    "Students=[]\n",
    "for i in range(0,10):\n",
    "    rec1 = int(input(\"Enter student's roll number \"))\n",
    "    rec2 = input(\"Enter Student Name \")\n",
    "    rec3 = int(input(\"Enter Marks \"))\n",
    "    records = (rec1, rec2, rec3)\n",
    "    Students.append(records)"
   ]
  },
  {
   "cell_type": "code",
   "execution_count": 6,
   "metadata": {},
   "outputs": [
    {
     "name": "stdout",
     "output_type": "stream",
     "text": [
      "Added\n",
      "Done!!\n"
     ]
    }
   ],
   "source": [
    "#Question 3\n",
    "#Add these values in two columns named \"Name\" and \"Marks\" with the appropriate data type.\n",
    "# Note: The query used by me also has a primary key Rno which will also be needed to be appended\n",
    "\n",
    "try:\n",
    "    con=sqlite3.connect(\"Students.db\")\n",
    "    cur=con.cursor()\n",
    "    query='insert into Marks(Rno, Name, Marks) values (?, ?, ?)'\n",
    "    cur.executemany(query,Students)\n",
    "    print(\"Added\")\n",
    "    con.commit()\n",
    "except:\n",
    "    con.rollback()\n",
    "    print(\"RolledBack\")\n",
    "finally:\n",
    "    cur.close()\n",
    "    con.close()\n",
    "    print(\"Done!!\")"
   ]
  },
  {
   "cell_type": "code",
   "execution_count": 7,
   "metadata": {},
   "outputs": [
    {
     "name": "stdout",
     "output_type": "stream",
     "text": [
      "Students with Marks More Than 80:\n",
      "RNO     NAME     Marks\n",
      "9         i        90\n",
      "10         j        100\n",
      "DONE!\n"
     ]
    }
   ],
   "source": [
    "#Question 4\n",
    "#Print the names of all the students who scored more than 80 marks.\n",
    "\n",
    "try:\n",
    "    con = sqlite3.connect('Students.db')\n",
    "    cur = con.cursor()\n",
    "    query = 'select * from Marks where Marks>80'\n",
    "    cur.execute(query)\n",
    "    Stu = cur.fetchall()\n",
    "    con.commit()\n",
    "except:\n",
    "    if con:\n",
    "        con.rollback()\n",
    "finally:\n",
    "    print(\"Students with Marks More Than 80:\")\n",
    "    print('RNO     NAME     Marks')\n",
    "    for i in range(0,len(Stu)):\n",
    "        print('{}         {}        {}'.format(Stu[i][0], Stu[i][1], Stu[i][2]))\n",
    "    if con:\n",
    "        cur.close()\n",
    "        con.close()\n",
    "        print(\"DONE!\")"
   ]
  }
 ],
 "metadata": {
  "kernelspec": {
   "display_name": "Python 3",
   "language": "python",
   "name": "python3"
  },
  "language_info": {
   "codemirror_mode": {
    "name": "ipython",
    "version": 3
   },
   "file_extension": ".py",
   "mimetype": "text/x-python",
   "name": "python",
   "nbconvert_exporter": "python",
   "pygments_lexer": "ipython3",
   "version": "3.6.4"
  }
 },
 "nbformat": 4,
 "nbformat_minor": 2
}
