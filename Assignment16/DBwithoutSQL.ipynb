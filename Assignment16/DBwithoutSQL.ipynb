{
 "cells": [
  {
   "cell_type": "code",
   "execution_count": 1,
   "metadata": {},
   "outputs": [],
   "source": [
    "# Question 1\n",
    "# Write a python script to create a databse of students named Students.\n",
    "import pymongo as pm\n",
    "Cl = pm.MongoClient()\n",
    "DB = Cl['Students']"
   ]
  },
  {
   "cell_type": "code",
   "execution_count": 2,
   "metadata": {},
   "outputs": [
    {
     "name": "stdout",
     "output_type": "stream",
     "text": [
      "Enter Students Name A\n",
      "Enter Students Marks10\n",
      "Enter Students Name B\n",
      "Enter Students Marks20\n",
      "Enter Students Name C\n",
      "Enter Students Marks30\n",
      "Enter Students Name D\n",
      "Enter Students Marks40\n",
      "Enter Students Name E\n",
      "Enter Students Marks50\n",
      "Enter Students Name F\n",
      "Enter Students Marks60\n",
      "Enter Students Name G\n",
      "Enter Students Marks70\n",
      "Enter Students Name H\n",
      "Enter Students Marks80\n",
      "Enter Students Name I\n",
      "Enter Students Marks90\n",
      "Enter Students Name J\n",
      "Enter Students Marks100\n"
     ]
    }
   ],
   "source": [
    "# Question 2\n",
    "# Take students name and marks(between 0-100) as input from user 10 times using loops.\n",
    "records_name = []\n",
    "records_Marks = []\n",
    "records = {}\n",
    "List1 = []\n",
    "for i in range(0,10):\n",
    "    Name = input(\"Enter Students Name \")\n",
    "    Marks = int(input(\"Enter Students Marks\"))\n",
    "    records_name.append(Name)\n",
    "    records_Marks.append(Marks)\n",
    "for i in range(0,10):\n",
    "    records = {'Name':records_name[i], 'Marks':records_Marks[i]}\n",
    "    List1.append(records)"
   ]
  },
  {
   "cell_type": "code",
   "execution_count": 3,
   "metadata": {},
   "outputs": [],
   "source": [
    "# Question 3\n",
    "# Add these values in two columns named \"Name\" and \"Marks\" with the appropriate data type.\n",
    "Coll = DB['Student_Data1']\n",
    "for i in range(0,10):\n",
    "    a = List1[i]\n",
    "    Coll.insert_one(a)"
   ]
  },
  {
   "cell_type": "code",
   "execution_count": 4,
   "metadata": {},
   "outputs": [
    {
     "name": "stdout",
     "output_type": "stream",
     "text": [
      "Name: I Marks:90\n",
      "Name: J Marks:100\n"
     ]
    }
   ],
   "source": [
    "# Question 4\n",
    "# Print the names of all the students who scored more than 80 marks.\n",
    "find = {'Marks':{'$gt':80}}\n",
    "Data = Coll.find(find)\n",
    "for i in Data:\n",
    "    print(\"Name: {} Marks:{}\".format(i['Name'], i['Marks']))"
   ]
  },
  {
   "cell_type": "code",
   "execution_count": null,
   "metadata": {},
   "outputs": [],
   "source": []
  }
 ],
 "metadata": {
  "kernelspec": {
   "display_name": "Python 3",
   "language": "python",
   "name": "python3"
  },
  "language_info": {
   "codemirror_mode": {
    "name": "ipython",
    "version": 3
   },
   "file_extension": ".py",
   "mimetype": "text/x-python",
   "name": "python",
   "nbconvert_exporter": "python",
   "pygments_lexer": "ipython3",
   "version": "3.6.4"
  }
 },
 "nbformat": 4,
 "nbformat_minor": 2
}
